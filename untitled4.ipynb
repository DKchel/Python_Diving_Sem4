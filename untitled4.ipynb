{
  "nbformat": 4,
  "nbformat_minor": 0,
  "metadata": {
    "colab": {
      "provenance": [],
      "authorship_tag": "ABX9TyPoz6q5PrPeyG/8dHTM89w5",
      "include_colab_link": true
    },
    "kernelspec": {
      "name": "python3",
      "display_name": "Python 3"
    },
    "language_info": {
      "name": "python"
    }
  },
  "cells": [
    {
      "cell_type": "markdown",
      "metadata": {
        "id": "view-in-github",
        "colab_type": "text"
      },
      "source": [
        "<a href=\"https://colab.research.google.com/github/DKchel/Python_Diving_Sem4/blob/main/untitled4.ipynb\" target=\"_parent\"><img src=\"https://colab.research.google.com/assets/colab-badge.svg\" alt=\"Open In Colab\"/></a>"
      ]
    },
    {
      "cell_type": "markdown",
      "source": [
        "1. Напишите функцию для транспонирования матрицы"
      ],
      "metadata": {
        "id": "XclTzT6F9LFh"
      }
    },
    {
      "cell_type": "code",
      "execution_count": null,
      "metadata": {
        "id": "Gtkd_3Es9JkH"
      },
      "outputs": [],
      "source": [
        "def transp_matrix(matrix: list[list]) -> list[list]:\n",
        "    rows =  len(matrix[0])\n",
        "    colums =  len(matrix)\n",
        "    res_matrix = [[0] * colums for i in range(rows)]\n",
        "    for i in range(rows):\n",
        "        for j in range(colums):\n",
        "            res_matrix[i][j] = matrix[j][i]\n",
        "    return res_matrix"
      ]
    },
    {
      "cell_type": "code",
      "source": [
        "def print_matrix(matrix: list[list]) -> list[list]:\n",
        "    rows =  len(matrix[0])\n",
        "    colums =  len(matrix)\n",
        "    for i in range(colums):\n",
        "        for j in range(rows):\n",
        "            #print(matrix[i][j], end=' ')\n",
        "            print(str(matrix[i][j]).rjust(4), end='')\n",
        "        print()"
      ],
      "metadata": {
        "id": "k1Wpy2Ye9VOH"
      },
      "execution_count": null,
      "outputs": []
    },
    {
      "cell_type": "code",
      "source": [
        "if __name__ == '__main__':\n",
        "    matrix = [[1, 2, 3, 4], [5, 6, 7, 8], [9, 10, 11, 12]]\n",
        "\n",
        "    print_matrix(matrix)\n",
        "    print()\n",
        "    print_matrix(transp_matrix(matrix))"
      ],
      "metadata": {
        "colab": {
          "base_uri": "https://localhost:8080/"
        },
        "id": "7U2WBXZa9Xjf",
        "outputId": "1003f69a-a710-45b7-8d1d-8c8bdcadc824"
      },
      "execution_count": null,
      "outputs": [
        {
          "output_type": "stream",
          "name": "stdout",
          "text": [
            "   1   2   3   4\n",
            "   5   6   7   8\n",
            "   9  10  11  12\n",
            "\n",
            "   1   5   9\n",
            "   2   6  10\n",
            "   3   7  11\n",
            "   4   8  12\n"
          ]
        }
      ]
    },
    {
      "cell_type": "markdown",
      "source": [
        "2. Напишите функцию принимающую на вход только ключевые параметры и возвращающую словарь, где ключ — значение переданного аргумента, а значение — имя аргумента.\n",
        "Если ключ не хешируем, используйте его строковое представление."
      ],
      "metadata": {
        "id": "YhVznpMC9mZ-"
      }
    },
    {
      "cell_type": "code",
      "source": [
        "def function(**kwargs) -> dict:\n",
        "    return {v if v.__hash__ is not None else str(v):k for k,v in kwargs.items()}"
      ],
      "metadata": {
        "id": "DABlFryM9dG3"
      },
      "execution_count": null,
      "outputs": []
    },
    {
      "cell_type": "code",
      "source": [
        "if __name__ == '__main__':\n",
        "    print(function(argument1 = 999, argument2 = \"string\", argument3 = \"999\", argument4 = [1,2,3,4,5], argument5 = 2.3, argument6 = {1,2,3,4,5}))"
      ],
      "metadata": {
        "colab": {
          "base_uri": "https://localhost:8080/"
        },
        "id": "6vXcoBf39sTh",
        "outputId": "9f4988b8-f122-4099-b659-07c02ab04f2f"
      },
      "execution_count": null,
      "outputs": [
        {
          "output_type": "stream",
          "name": "stdout",
          "text": [
            "{999: 'argument1', 'string': 'argument2', '999': 'argument3', '[1, 2, 3, 4, 5]': 'argument4', 2.3: 'argument5', '{1, 2, 3, 4, 5}': 'argument6'}\n"
          ]
        }
      ]
    },
    {
      "cell_type": "markdown",
      "source": [
        "3. Возьмите задачу о банкомате из семинара 2.\n",
        "Разбейте её на отдельные операции — функции.\n",
        "Дополнительно сохраняйте все операции поступления и снятия средств в список."
      ],
      "metadata": {
        "id": "INUqoQj29wFy"
      }
    },
    {
      "cell_type": "code",
      "source": [
        "import decimal as d"
      ],
      "metadata": {
        "id": "VUcuyA4890gR"
      },
      "execution_count": null,
      "outputs": []
    },
    {
      "cell_type": "code",
      "source": [
        "RICHNESS_SUM = d.Decimal(5_000_000)\n",
        "RICHNESS_TAX = d.Decimal(10) / d.Decimal(100)\n",
        "WITHDROW_PERCENT = d.Decimal(15) / d.Decimal(1000)\n",
        "ADD_PERCENT = d.Decimal(3) / d.Decimal(100)\n",
        "MULTIPLICITY = 50\n",
        "MIN_REMOVAL = 30\n",
        "MAX_REMOVAL = 600\n",
        "COUNT_OPER = 3"
      ],
      "metadata": {
        "id": "fnEgOt-394D0"
      },
      "execution_count": null,
      "outputs": []
    },
    {
      "cell_type": "code",
      "source": [
        "def print_data():\n",
        "    \"\"\"Показ транзакций\"\"\"\n",
        "    print('Выполненные транзакции:')\n",
        "    for k, v in transaction_dict.items():\n",
        "        print(f'{k}: {v}', sep='')"
      ],
      "metadata": {
        "id": "lgmAYUGm99oq"
      },
      "execution_count": null,
      "outputs": []
    },
    {
      "cell_type": "code",
      "source": [
        "def deposit_money(account: int, count: int) -> int:\n",
        "    \"\"\"Внесение денег на счёт\"\"\"\n",
        "    if count and count % COUNT_OPER == 0:\n",
        "        bonus_percent = account * ADD_PERCENT\n",
        "        account += bonus_percent\n",
        "        print(f'\\nНа счёт начислено {ADD_PERCENT * 100}%, составляющие {bonus_percent} у.е.\\nНа карте: {account} у.е.')\n",
        "    amount = 1\n",
        "    while amount % 50 != 0:\n",
        "        amount = int(input(f'\\nВведите сумму, кратную {MULTIPLICITY}: '))\n",
        "    account += amount\n",
        "    print(f'\\nПополнение карты на {amount} у.е. \\nНа карте: {account} у.е.')\n",
        "    transaction_dict[count + 1] = f'Транзакция пополнения счёта: + {amount} у.е.'\n",
        "    return account"
      ],
      "metadata": {
        "id": "vRKxMo6G-Fbo"
      },
      "execution_count": null,
      "outputs": []
    },
    {
      "cell_type": "code",
      "source": [
        "def take_money(account, count):\n",
        "    \"\"\"Снятие денег со счёта\"\"\"\n",
        "    if count and count % COUNT_OPER == 0:\n",
        "        bonus_percent = account * ADD_PERCENT\n",
        "        account += bonus_percent\n",
        "        print(f'\\nНа счёт начислено {ADD_PERCENT * 100}%, составляющие {bonus_percent} у.е.\\nНа карте: {account} у.е.')\n",
        "    amount = 1\n",
        "    while amount % 50 != 0:\n",
        "        amount = int(input(f'\\nВведите сумму, кратную {MULTIPLICITY}: '))\n",
        "    withdrow_tax = amount * WITHDROW_PERCENT\n",
        "    withdrow_tax = (MIN_REMOVAL if withdrow_tax < MIN_REMOVAL else\n",
        "                    MAX_REMOVAL if withdrow_tax > MAX_REMOVAL else withdrow_tax)\n",
        "    if  account >= amount + withdrow_tax:\n",
        "        print(f'{account=} + {withdrow_tax=} - {amount} = {account + withdrow_tax - amount}')\n",
        "        account -= (amount + withdrow_tax)\n",
        "        print(f'\\nСнятие с карты {amount} у.е.\\nКомиссия за снятие: {withdrow_tax} у.е.\\nНа карте: {account} у.е.')\n",
        "        transaction_dict[count + 1] = f'Транзакция снятия со счёта: - {amount} у.е.'\n",
        "    else:\n",
        "        print(f'\\nНа карте {account} у.е. Не достаточно для операции снятия {amount} у.е. с учётом комиссии за снятие: {withdrow_tax} у.е.')\n",
        "        transaction_dict[count + 1] = f'Не успешная транзакция снятия: {amount} у.е - не достаточно средств.'\n",
        "    return account"
      ],
      "metadata": {
        "id": "ezLy6cBx-HMi"
      },
      "execution_count": null,
      "outputs": []
    },
    {
      "cell_type": "code",
      "source": [
        "def exit_data(account):\n",
        "    \"\"\"Выход\"\"\"\n",
        "    if account > RICHNESS_SUM:\n",
        "        percent = account * RICHNESS_TAX\n",
        "        account -= percent\n",
        "        print(f'\\nУдержан налог на богатство {RICHNESS_TAX}% в размере {percent} у.е.')\n",
        "    print(f'Возьмите карту. На карте: {account} у.е.')"
      ],
      "metadata": {
        "id": "AKM42neT-OBn"
      },
      "execution_count": null,
      "outputs": []
    },
    {
      "cell_type": "code",
      "source": [
        "account = d.Decimal(0)\n",
        "transaction_dict = {}\n",
        "count = 0"
      ],
      "metadata": {
        "id": "gkVFQk5x-SFl"
      },
      "execution_count": null,
      "outputs": []
    },
    {
      "cell_type": "code",
      "source": [
        "command = ''\n",
        "while command != '0':\n",
        "    print('Меню пользователя: \\n'\n",
        "        '1. Пополнить счёт \\n'\n",
        "        '2. Снять со счёта \\n'\n",
        "        '3. Список транзакций \\n'\n",
        "        '0. Выход \\n')\n",
        "    command = input('Выберите пункт меню: ')\n",
        "\n",
        "    while command not in ('1', '2', '3', '0'):\n",
        "        print('Не корректный ввод, поворите запрос')\n",
        "        command = input('Выберите пункт меню: ')\n",
        "\n",
        "    match command:\n",
        "        case '1':\n",
        "            account = deposit_money(account, count)\n",
        "            count += 1\n",
        "        case '2':\n",
        "            account = take_money(account, count)\n",
        "            count += 1\n",
        "        case '3':\n",
        "            print_data()\n",
        "        case '0':\n",
        "            exit_data(account)\n",
        "    print()"
      ],
      "metadata": {
        "colab": {
          "base_uri": "https://localhost:8080/"
        },
        "id": "bSWEvwKB-Tl5",
        "outputId": "6d90b525-e2a1-4eb2-f8fe-fc86a248dac0"
      },
      "execution_count": null,
      "outputs": [
        {
          "output_type": "stream",
          "name": "stdout",
          "text": [
            "Меню пользователя: \n",
            "1. Пополнить счёт \n",
            "2. Снять со счёта \n",
            "3. Список транзакций \n",
            "0. Выход \n",
            "\n",
            "Выберите пункт меню: 1\n",
            "\n",
            "Введите сумму, кратную 50: 100\n",
            "\n",
            "Пополнение карты на 100 у.е. \n",
            "На карте: 100 у.е.\n",
            "\n",
            "Меню пользователя: \n",
            "1. Пополнить счёт \n",
            "2. Снять со счёта \n",
            "3. Список транзакций \n",
            "0. Выход \n",
            "\n",
            "Выберите пункт меню: 200\n",
            "Не корректный ввод, поворите запрос\n",
            "Выберите пункт меню: 2\n",
            "\n",
            "Введите сумму, кратную 50: 200\n",
            "\n",
            "На карте 100 у.е. Не достаточно для операции снятия 200 у.е. с учётом комиссии за снятие: 30 у.е.\n",
            "\n",
            "Меню пользователя: \n",
            "1. Пополнить счёт \n",
            "2. Снять со счёта \n",
            "3. Список транзакций \n",
            "0. Выход \n",
            "\n",
            "Выберите пункт меню: 3\n",
            "Выполненные транзакции:\n",
            "1: Транзакция пополнения счёта: + 100 у.е.\n",
            "2: Не успешная транзакция снятия: 200 у.е - не достаточно средств.\n",
            "\n",
            "Меню пользователя: \n",
            "1. Пополнить счёт \n",
            "2. Снять со счёта \n",
            "3. Список транзакций \n",
            "0. Выход \n",
            "\n"
          ]
        }
      ]
    }
  ]
}